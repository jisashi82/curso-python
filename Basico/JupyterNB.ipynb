{
 "cells": [
  {
   "attachments": {},
   "cell_type": "markdown",
   "metadata": {},
   "source": [
    "# **Variables**"
   ]
  },
  {
   "cell_type": "code",
   "execution_count": null,
   "metadata": {},
   "outputs": [],
   "source": [
    "myVariable=\"Esto es una variable de string\"\n",
    "print(type(myVariable))\n",
    "print(myVariable)\n",
    "\n",
    "my_int_variable=5\n",
    "print(type(my_int_variable))\n",
    "print(my_int_variable)\n"
   ]
  },
  {
   "cell_type": "code",
   "execution_count": null,
   "metadata": {},
   "outputs": [],
   "source": [
    "# declara una variable string y otra integer, las imprime formateando la salida\n",
    "nombre ='Abel'\n",
    "edad=40\n",
    "print(f'Nombre: {nombre} \\nEdad: {edad}')"
   ]
  },
  {
   "cell_type": "markdown",
   "metadata": {},
   "source": [
    "#Concatenacion de variables"
   ]
  },
  {
   "cell_type": "code",
   "execution_count": null,
   "metadata": {},
   "outputs": [],
   "source": [
    "print(myVariable,my_int_variable)"
   ]
  },
  {
   "cell_type": "markdown",
   "metadata": {},
   "source": [
    "#Funciones del Sistema"
   ]
  },
  {
   "cell_type": "code",
   "execution_count": null,
   "metadata": {},
   "outputs": [],
   "source": [
    "print(len(myVariable))"
   ]
  },
  {
   "attachments": {},
   "cell_type": "markdown",
   "metadata": {},
   "source": [
    "# **Operaciones con cadenas de texto**"
   ]
  },
  {
   "cell_type": "code",
   "execution_count": null,
   "metadata": {},
   "outputs": [],
   "source": [
    "#convierte un texto a minuscula\n",
    "cadena = \"EjemplO de CaDena de TexTOs\"\n",
    "cadena.lower()"
   ]
  },
  {
   "cell_type": "code",
   "execution_count": null,
   "metadata": {},
   "outputs": [],
   "source": [
    "#convierte a Mayusculas\n",
    "cadena.upper()"
   ]
  },
  {
   "cell_type": "code",
   "execution_count": null,
   "metadata": {},
   "outputs": [],
   "source": [
    "#Mayuscula a la primer palabra de un texto\n",
    "cadena.capitalize()"
   ]
  },
  {
   "cell_type": "code",
   "execution_count": null,
   "metadata": {},
   "outputs": [],
   "source": [
    "#capitaliza cada palabra de un texto\n",
    "cadena.title()"
   ]
  },
  {
   "cell_type": "code",
   "execution_count": null,
   "metadata": {},
   "outputs": [],
   "source": [
    "# en un texto cambia mayusculas las minusculas y viceversa \n",
    "cadena.swapcase()"
   ]
  },
  {
   "cell_type": "code",
   "execution_count": null,
   "metadata": {},
   "outputs": [],
   "source": [
    "#valida si la cadena es Masyusculas\n",
    "cadena.isupper()"
   ]
  },
  {
   "cell_type": "code",
   "execution_count": null,
   "metadata": {},
   "outputs": [],
   "source": [
    "#valida si el valor literal es numerico\n",
    "cadena=\"12345\"\n",
    "cadena.isnumeric()"
   ]
  },
  {
   "cell_type": "code",
   "execution_count": null,
   "metadata": {},
   "outputs": [],
   "source": [
    "#valida si el valor de la variable es alphanumeric\n",
    "cadena=\"$%&/\"\n",
    "cadena.isalnum()"
   ]
  },
  {
   "cell_type": "code",
   "execution_count": null,
   "metadata": {},
   "outputs": [],
   "source": [
    "#en una variable string se pueden acceder por medio de los indices\n",
    "palabra=\"python\"\n",
    "palabra[2]\n",
    "palabra[0:3]"
   ]
  },
  {
   "cell_type": "code",
   "execution_count": null,
   "metadata": {},
   "outputs": [],
   "source": [
    "mitexto='hola, esto es un textO'\n",
    "print(mitexto.split()) #convierte a una lista\n",
    "\n",
    "#se puede unir una lista con el metodo join\n",
    "lista =['hola,', 'esto', 'es', 'un', 'textO']\n",
    "mivariable = ' '.join(lista)\n",
    "print(mivariable)\n",
    "\n",
    "#se pueden concatenar metodos\n",
    "print(mitexto.replace(',', ' ').upper().split())"
   ]
  },
  {
   "attachments": {},
   "cell_type": "markdown",
   "metadata": {},
   "source": [
    "# **Listas**\n",
    "\n",
    "#### *Almacenan diferentes elementos de tipos de datos y son mutables*"
   ]
  },
  {
   "cell_type": "code",
   "execution_count": null,
   "metadata": {},
   "outputs": [],
   "source": [
    "#Metodo remove: Quita el primer ítem de la lista, se le debe pasar como parametro el valor a eliminar\n",
    "lista =[1,2,3,4,5,6]\n",
    "lista.remove(3)\n",
    "lista"
   ]
  },
  {
   "cell_type": "code",
   "execution_count": null,
   "metadata": {},
   "outputs": [],
   "source": [
    "#Metodo pop: Quita el ultimo ítem de la lista, , se le puede pasar como parametro el index a eliminar\n",
    "lista =[1,2,3,4,5,6]\n",
    "lista.pop()\n",
    "lista"
   ]
  },
  {
   "cell_type": "code",
   "execution_count": null,
   "metadata": {},
   "outputs": [],
   "source": [
    "#accediendo a un elemento de la lista por medio de su indice\n",
    "lista[3]"
   ]
  },
  {
   "cell_type": "code",
   "execution_count": null,
   "metadata": {},
   "outputs": [],
   "source": [
    "#accediendo a un rango de elementos de una lista\n",
    "datos =['Abel',23,'México']\n",
    "datos[1:]"
   ]
  },
  {
   "cell_type": "code",
   "execution_count": null,
   "metadata": {},
   "outputs": [],
   "source": [
    "#las listas son mutables. cambiando el valor de un elemento de la lista\n",
    "datos[2]= 'EE.UU'\n",
    "datos"
   ]
  },
  {
   "cell_type": "code",
   "execution_count": null,
   "metadata": {},
   "outputs": [],
   "source": [
    "#el metodo append sirve para agregar un elemento al final de la lista\n",
    "datos.append(1.87)\n",
    "datos"
   ]
  },
  {
   "cell_type": "code",
   "execution_count": null,
   "metadata": {},
   "outputs": [],
   "source": [
    "#se puede agregar otra lista como elemento(lista anidada) \n",
    "datos.append(lista)\n",
    "datos"
   ]
  },
  {
   "cell_type": "code",
   "execution_count": 1,
   "metadata": {},
   "outputs": [
    {
     "data": {
      "text/plain": [
       "['Abel', 23, 'México', 1, 2, 3, 4, 5]"
      ]
     },
     "execution_count": 1,
     "metadata": {},
     "output_type": "execute_result"
    }
   ],
   "source": [
    "#Metodo extend: Extiende la lista agregándole todos los ítems del iterable\n",
    "datos =['Abel',23,'México']\n",
    "lista =[1,2,3,4,5]\n",
    "datos.extend(lista)\n",
    "datos"
   ]
  },
  {
   "cell_type": "code",
   "execution_count": null,
   "metadata": {},
   "outputs": [],
   "source": [
    "#Metodo insert: Inserta un ítem en una posición dada\n",
    "datos =['Abel',23,'México']\n",
    "datos.insert(1,'naka@jpy.com')\n",
    "datos"
   ]
  },
  {
   "cell_type": "code",
   "execution_count": null,
   "metadata": {},
   "outputs": [],
   "source": [
    "#Metodo sort: Ordena los elementos de la lista in situ  list.sort(*, key=None, reverse=False)\n",
    "frutas=['naranja','uva','banana','aguacate']\n",
    "frutas.sort()\n",
    "frutas"
   ]
  },
  {
   "cell_type": "code",
   "execution_count": null,
   "metadata": {},
   "outputs": [],
   "source": [
    "#la funcion sirve para contar cuantos elemento tiene una lista\n",
    "len(datos)"
   ]
  },
  {
   "cell_type": "code",
   "execution_count": null,
   "metadata": {},
   "outputs": [],
   "source": [
    "#Usar lista como colas(«primero en entrar, primero en salir»): utiliza el metodo append y popleft\n",
    "\n",
    "from collections import deque\n",
    "cola= deque(['Abel','Jisashi','Ana','Adolfo'])\n",
    "cola.append('Mavi')\n",
    "cola.append('Said')\n",
    "print(cola)\n",
    "\n",
    "cola.popleft()\n",
    "print(cola)"
   ]
  },
  {
   "attachments": {},
   "cell_type": "markdown",
   "metadata": {},
   "source": [
    "## Listas: Comprensión de listas\n",
    "##### *Las comprensiones de listas ofrecen una manera concisa de crear listas. Sus usos comunes son para hacer nuevas listas donde cada elemento es el resultado de algunas operaciones aplicadas a cada miembro de otra secuencia o iterable*"
   ]
  },
  {
   "cell_type": "code",
   "execution_count": null,
   "metadata": {},
   "outputs": [],
   "source": [
    "#crea una lista con los cuadrados del 1 al 10\n",
    "cuadrados =[]\n",
    "for x in range(10):\n",
    "    cuadrados.append(x**2)\n",
    "print(cuadrados)"
   ]
  },
  {
   "cell_type": "code",
   "execution_count": null,
   "metadata": {},
   "outputs": [],
   "source": [
    "squares = list(map(lambda x: x**2, range(10)))\n",
    "squares"
   ]
  },
  {
   "cell_type": "code",
   "execution_count": null,
   "metadata": {},
   "outputs": [],
   "source": [
    "squares = [x**2 for x in range(10)]\n",
    "squares"
   ]
  },
  {
   "cell_type": "code",
   "execution_count": null,
   "metadata": {},
   "outputs": [],
   "source": [
    "[(x,y) for x in [1,2,3] for y in [3,1,4] if x != y]"
   ]
  },
  {
   "attachments": {},
   "cell_type": "markdown",
   "metadata": {},
   "source": [
    "\n",
    "# **Operador de pertenencia**"
   ]
  },
  {
   "cell_type": "code",
   "execution_count": null,
   "metadata": {},
   "outputs": [],
   "source": [
    "# el operador in se utiliza solo en listas u objetos string\n",
    "nombres =['Abel','Miguel','Said',35,45,14]\n",
    "'Said' in nombres"
   ]
  },
  {
   "cell_type": "code",
   "execution_count": null,
   "metadata": {},
   "outputs": [],
   "source": [
    "#el operador \"in\" no se puede utilizar en numeros que esten almacenados en 1 variable\n",
    "a=25\n",
    "5 in a"
   ]
  },
  {
   "attachments": {},
   "cell_type": "markdown",
   "metadata": {},
   "source": [
    "# **DICCIONARIOS**"
   ]
  },
  {
   "cell_type": "code",
   "execution_count": null,
   "metadata": {},
   "outputs": [],
   "source": [
    "#Creando un diccionario, es parecido a un json\n",
    "diccionario = {'nombre': 'Jisashi', 'edad': 40, 'email': 'jisashi@p.com', 'pais':'México'}\n",
    "diccionario"
   ]
  },
  {
   "cell_type": "code",
   "execution_count": null,
   "metadata": {},
   "outputs": [],
   "source": [
    "#modificando un valor del diccionario\n",
    "diccionario['pais'] ='EE.UU'\n",
    "diccionario"
   ]
  },
  {
   "cell_type": "code",
   "execution_count": null,
   "metadata": {},
   "outputs": [],
   "source": [
    "#Eliminando un valor del diccionario\n",
    "diccionario.popitem() #elimina el ultimo elemento\n",
    "diccionario.pop('nombre') #elimina la clave que se le pasa como parametro\n",
    "diccionario"
   ]
  },
  {
   "cell_type": "code",
   "execution_count": null,
   "metadata": {},
   "outputs": [],
   "source": [
    "#Formas de iterar en un diccionario\n",
    "numeros={'uno':1,'dos':2,'tres':3,'cuatro':4}\n",
    "\n",
    "#imprime la clave de cada elemento\n",
    "for x in numeros:\n",
    "    print(x)\n",
    "\n",
    "#Imprime el valor de cada elemento\n",
    "for val in numeros.values():\n",
    "    print(val)\n",
    "\n",
    "#Imprime la clave y el valor de cada elemento    \n",
    "for clave, valor in numeros.items():\n",
    "    print(clave,valor)"
   ]
  },
  {
   "attachments": {},
   "cell_type": "markdown",
   "metadata": {},
   "source": [
    "# **Conjuntos o Sets**\n",
    "##### *No permiten valores duplicados*: Un conjunto es una colección no ordenada y sin elementos repetidos. Los usos básicos de éstos incluyen verificación de pertenencia y eliminación de entradas duplicadas. Los conjuntos también soportan operaciones matemáticas como la unión, intersección, diferencia, y diferencia simétrica."
   ]
  },
  {
   "cell_type": "code",
   "execution_count": null,
   "metadata": {},
   "outputs": [],
   "source": [
    "#Creando un conjunto\n",
    "conjunto ={1,2,3,4,1,2,3,4,5}\n",
    "conjunto\n",
    "\n",
    "#agregar un elemento\n",
    "conjunto.add(9)\n",
    "print(conjunto)\n",
    "\n",
    "#eliminar un elemento\n",
    "conjunto.discard(4)\n",
    "print(conjunto)"
   ]
  },
  {
   "cell_type": "code",
   "execution_count": null,
   "metadata": {},
   "outputs": [],
   "source": [
    "a = {0,2,4,6,8}\n",
    "b ={1,2,3,4,5}\n",
    "\n",
    "#Union: une y muestra los valores que no se repiten de los 2 conjuntos \n",
    "print(a | b)\n",
    "\n",
    "#Interseccion: muestra los valores iguales que existen en los 2 conjuntos\n",
    "print(a & b)\n",
    "\n",
    "#Diferencia:  muestra que valores no estan en el conjunto b y viceversa\n",
    "print(a - b)\n",
    "print(b - a)\n",
    "\n",
    "#Diferencia simetrica: muestra los valores unicos que no se repiten en ambos conjuntos a y b\n",
    "print(a ^ b)\n"
   ]
  },
  {
   "cell_type": "code",
   "execution_count": null,
   "metadata": {},
   "outputs": [],
   "source": [
    "#De forma similar a las comprensiones de listas, la comprensión de conjuntos está también soportada:\n",
    "a = {x for x in 'abracadabra'}\n",
    "print(a)\n",
    "a = {x for x in 'abracadabra' if x not in 'abc'}\n",
    "print(a)"
   ]
  },
  {
   "attachments": {},
   "cell_type": "markdown",
   "metadata": {},
   "source": [
    "# Modulo datetime"
   ]
  },
  {
   "cell_type": "code",
   "execution_count": 3,
   "metadata": {},
   "outputs": [
    {
     "name": "stdout",
     "output_type": "stream",
     "text": [
      "2023\n",
      "1\n",
      "24\n",
      "11\n",
      "0001-01-01 00:00:00\n"
     ]
    }
   ],
   "source": [
    "from datetime import datetime as d\n",
    "\n",
    "dt= d.now()\n",
    "print(dt.year)\n",
    "print(dt.month)\n",
    "print(dt.day)\n",
    "print(dt.hour)\n",
    "print(dt.minute)\n",
    "\n",
    "\n"
   ]
  }
 ],
 "metadata": {
  "kernelspec": {
   "display_name": "Python 3.11.0 64-bit",
   "language": "python",
   "name": "python3"
  },
  "language_info": {
   "codemirror_mode": {
    "name": "ipython",
    "version": 3
   },
   "file_extension": ".py",
   "mimetype": "text/x-python",
   "name": "python",
   "nbconvert_exporter": "python",
   "pygments_lexer": "ipython3",
   "version": "3.11.0"
  },
  "orig_nbformat": 4,
  "vscode": {
   "interpreter": {
    "hash": "c261aea317cc0286b3b3261fbba9abdec21eaa57589985bb7a274bf54d6cc0a7"
   }
  }
 },
 "nbformat": 4,
 "nbformat_minor": 2
}
